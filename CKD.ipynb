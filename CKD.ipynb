{
 "cells": [
  {
   "cell_type": "code",
   "execution_count": 1,
   "id": "4daf0c2b",
   "metadata": {},
   "outputs": [],
   "source": [
    "import pandas as pd\n",
    "from sklearn.model_selection import train_test_split, GridSearchCV\n",
    "from sklearn.ensemble import RandomForestClassifier\n",
    "from sklearn.metrics import confusion_matrix, classification_report, roc_auc_score, f1_score\n",
    "from sklearn.preprocessing import StandardScaler\n",
    "import pickle\n",
    "\n"
   ]
  },
  {
   "cell_type": "code",
   "execution_count": 10,
   "id": "9e2169f2",
   "metadata": {},
   "outputs": [],
   "source": [
    "# Load and preprocess the data\n",
    "dataset = pd.read_csv('CKD.csv')\n",
    "dataset = pd.get_dummies(dataset, drop_first=True)"
   ]
  },
  {
   "cell_type": "code",
   "execution_count": 11,
   "id": "d74e680a",
   "metadata": {},
   "outputs": [],
   "source": [
    "# Define features and target\n",
    "independent = dataset[['age', 'bp', 'al', 'su', 'bgr', 'bu', 'sc', 'sod', 'pot', 'hrmo', 'pcv', 'wc', 'rc',\n",
    "                       'sg_b', 'sg_c', 'sg_d', 'sg_e', 'rbc_normal', 'pc_normal', 'pcc_present', 'ba_present',\n",
    "                       'htn_yes', 'dm_yes', 'cad_yes', 'appet_yes', 'pe_yes', 'ane_yes']]\n",
    "dependent = dataset[['classification_yes']]\n"
   ]
  },
  {
   "cell_type": "code",
   "execution_count": 12,
   "id": "3e83fdb0",
   "metadata": {},
   "outputs": [],
   "source": [
    "# Split data into training and testing sets\n",
    "X_train, X_test, y_train, y_test = train_test_split(independent, dependent, test_size=0.30, random_state=0)\n"
   ]
  },
  {
   "cell_type": "code",
   "execution_count": 13,
   "id": "18e75f3d",
   "metadata": {},
   "outputs": [],
   "source": [
    "\n",
    "# Convert y_train and y_test to 1D arrays\n",
    "y_train = y_train.values.ravel()\n",
    "y_test = y_test.values.ravel()\n",
    "\n"
   ]
  },
  {
   "cell_type": "code",
   "execution_count": 14,
   "id": "09d2e11a",
   "metadata": {},
   "outputs": [],
   "source": [
    "# Feature Scaling\n",
    "scaler = StandardScaler()\n",
    "X_train_scaled = scaler.fit_transform(X_train)\n",
    "X_test_scaled = scaler.transform(X_test)\n",
    "\n"
   ]
  },
  {
   "cell_type": "code",
   "execution_count": 15,
   "id": "178ab630",
   "metadata": {},
   "outputs": [],
   "source": [
    "# Define and train the model\n",
    "grid_params = {'n_estimators': [10, 100, 1000],\n",
    "               'criterion': ['gini', 'entropy'],\n",
    "               'max_features': ['auto', 'sqrt', 'log2']}\n",
    "grid = GridSearchCV(RandomForestClassifier(), grid_params, refit=True, verbose=0, n_jobs=1, scoring='f1_weighted')\n",
    "\n"
   ]
  },
  {
   "cell_type": "code",
   "execution_count": 16,
   "id": "333ce26f",
   "metadata": {},
   "outputs": [],
   "source": [
    "# Fit the model\n",
    "try:\n",
    "    grid.fit(X_train_scaled, y_train)\n",
    "except Exception as e:\n",
    "    print(\"Error during GridSearchCV:\", e)"
   ]
  },
  {
   "cell_type": "code",
   "execution_count": 17,
   "id": "b27f1f29",
   "metadata": {},
   "outputs": [
    {
     "name": "stdout",
     "output_type": "stream",
     "text": [
      "Confusion Matrix:\n",
      " [[44  1]\n",
      " [ 1 74]]\n",
      "Classification Report:\n",
      "               precision    recall  f1-score   support\n",
      "\n",
      "           0       0.98      0.98      0.98        45\n",
      "           1       0.99      0.99      0.99        75\n",
      "\n",
      "    accuracy                           0.98       120\n",
      "   macro avg       0.98      0.98      0.98       120\n",
      "weighted avg       0.98      0.98      0.98       120\n",
      "\n",
      "ROC AUC Score: 0.9997037037037036\n",
      "Weighted F1 Score: 0.9833333333333335\n"
     ]
    }
   ],
   "source": [
    "# Predictions and metrics\n",
    "grid_predictions = grid.predict(X_test_scaled)\n",
    "cm = confusion_matrix(y_test, grid_predictions)\n",
    "print(\"Confusion Matrix:\\n\", cm)\n",
    "clf_report = classification_report(y_test, grid_predictions)\n",
    "print(\"Classification Report:\\n\", clf_report)\n",
    "roc_auc = roc_auc_score(y_test, grid.predict_proba(X_test_scaled)[:, 1])\n",
    "print(f\"ROC AUC Score: {roc_auc}\")\n",
    "f1_macro = f1_score(y_test, grid_predictions, average='weighted')\n",
    "print(f\"Weighted F1 Score: {f1_macro}\")"
   ]
  },
  {
   "cell_type": "code",
   "execution_count": 18,
   "id": "375ccc79",
   "metadata": {},
   "outputs": [
    {
     "name": "stdout",
     "output_type": "stream",
     "text": [
      "Best parameters: {'criterion': 'gini', 'max_features': 'auto', 'n_estimators': 100}\n"
     ]
    }
   ],
   "source": [
    "# Print best parameters\n",
    "print(f\"Best parameters: {grid.best_params_}\")\n",
    "\n"
   ]
  },
  {
   "cell_type": "code",
   "execution_count": 19,
   "id": "7ed4e80d",
   "metadata": {},
   "outputs": [],
   "source": [
    "# Save and load model\n",
    "filename = 'RandomForestCKDModel.sav'\n",
    "pickle.dump(grid, open(filename, 'wb'))\n",
    "loaded_model = pickle.load(open(filename, 'rb'))\n",
    "\n"
   ]
  },
  {
   "cell_type": "code",
   "execution_count": 20,
   "id": "7120f84a",
   "metadata": {},
   "outputs": [],
   "source": [
    "# Diet recommendation (simplified example)\n",
    "def recommend_diet(prediction):\n",
    "    if prediction == 1:\n",
    "        return \"Follow a low sodium, low potassium diet. Increase hydration and monitor protein intake.\"\n",
    "    else:\n",
    "        return \"Maintain a balanced diet with regular health check-ups.\"\n"
   ]
  },
  {
   "cell_type": "code",
   "execution_count": 23,
   "id": "249bd3c6",
   "metadata": {},
   "outputs": [
    {
     "name": "stdout",
     "output_type": "stream",
     "text": [
      "Enter your Age: 45\n",
      "Enter bp level: 5\n",
      "Enter al level: 6\n",
      "Enter su level: 9\n",
      "Enter bgr level: 8\n",
      "Enter bu level: 7\n",
      "Enter sc level: 87\n",
      "Enter sod level: 8\n",
      "Enter pot level: 7\n",
      "Enter hrmo level: 8\n",
      "Enter pcv level: 6\n",
      "Enter wc level: 8\n",
      "Enter rc level: 6\n",
      "Enter sg_b 0 or 1: 0\n",
      "Enter sg_c 0 or 1: 0\n",
      "Enter sg_d 0 or 1: 0\n",
      "Enter sg_e 0 or 1: 0\n",
      "Enter rbc_normal 0 or 1: 0\n",
      "Enter pc_normal 0 or 1: 0\n",
      "Enter pcc_present 0 or 1: 0\n",
      "Enter ba_present 0 or 1: 0\n",
      "Enter htn_yes 0 or 1: 0\n",
      "Enter dm_yes 0 or 1: 0\n",
      "Enter cad_yes 0 or 1: 0\n",
      "Enter appet_yes 0 or 1: 1\n",
      "Enter pe_yes 0 or 1: 1\n",
      "Enter ane_yes 0 or 1: 1\n"
     ]
    }
   ],
   "source": [
    "\n",
    "# User input and prediction\n",
    "age = int(input(\"Enter your Age: \"))\n",
    "bp = float(input(\"Enter bp level: \"))\n",
    "al = float(input(\"Enter al level: \"))\n",
    "su = float(input(\"Enter su level: \"))\n",
    "bgr = float(input(\"Enter bgr level: \"))\n",
    "bu = float(input(\"Enter bu level: \"))\n",
    "sc = float(input(\"Enter sc level: \"))\n",
    "sod = float(input(\"Enter sod level: \"))\n",
    "pot = float(input(\"Enter pot level: \"))\n",
    "hrmo = float(input(\"Enter hrmo level: \"))\n",
    "pcv = float(input(\"Enter pcv level: \"))\n",
    "wc = float(input(\"Enter wc level: \"))\n",
    "rc = float(input(\"Enter rc level: \"))\n",
    "sg_b = int(input(\"Enter sg_b 0 or 1: \"))\n",
    "sg_c = int(input(\"Enter sg_c 0 or 1: \"))\n",
    "sg_d = int(input(\"Enter sg_d 0 or 1: \"))\n",
    "sg_e = int(input(\"Enter sg_e 0 or 1: \"))\n",
    "rbc_normal = int(input(\"Enter rbc_normal 0 or 1: \"))\n",
    "pc_normal = int(input(\"Enter pc_normal 0 or 1: \"))\n",
    "pcc_present = int(input(\"Enter pcc_present 0 or 1: \"))\n",
    "ba_present = int(input(\"Enter ba_present 0 or 1: \"))\n",
    "htn_yes = int(input(\"Enter htn_yes 0 or 1: \"))\n",
    "dm_yes = int(input(\"Enter dm_yes 0 or 1: \"))\n",
    "cad_yes = int(input(\"Enter cad_yes 0 or 1: \"))\n",
    "appet_yes = int(input(\"Enter appet_yes 0 or 1: \"))\n",
    "pe_yes = int(input(\"Enter pe_yes 0 or 1: \"))\n",
    "ane_yes = int(input(\"Enter ane_yes 0 or 1: \"))\n",
    "\n"
   ]
  },
  {
   "cell_type": "code",
   "execution_count": 24,
   "id": "c0f71f5d",
   "metadata": {
    "scrolled": true
   },
   "outputs": [
    {
     "name": "stdout",
     "output_type": "stream",
     "text": [
      "Future Prediction: 1\n",
      "Diet Recommendation: Follow a low sodium, low potassium diet. Increase hydration and monitor protein intake.\n"
     ]
    },
    {
     "name": "stderr",
     "output_type": "stream",
     "text": [
      "C:\\Users\\Admin\\Anaconda3\\envs\\aiml\\lib\\site-packages\\sklearn\\base.py:451: UserWarning: X does not have valid feature names, but StandardScaler was fitted with feature names\n",
      "  \"X does not have valid feature names, but\"\n"
     ]
    }
   ],
   "source": [
    "# Make prediction\n",
    "input_features = [[age, bp, al, su, bgr, bu, sc, sod, pot, hrmo, pcv, wc, rc, sg_b, sg_c, sg_d, sg_e, rbc_normal,\n",
    "                    pc_normal, pcc_present, ba_present, htn_yes, dm_yes, cad_yes, appet_yes, pe_yes, ane_yes]]\n",
    "input_features_scaled = scaler.transform(input_features)\n",
    "future_predictions = loaded_model.predict(input_features_scaled)\n",
    "recommendation = recommend_diet(future_predictions[0])\n",
    "print(f\"Future Prediction: {future_predictions[0]}\")\n",
    "print(f\"Diet Recommendation: {recommendation}\")"
   ]
  },
  {
   "cell_type": "code",
   "execution_count": null,
   "id": "bf9b4552",
   "metadata": {},
   "outputs": [],
   "source": []
  }
 ],
 "metadata": {
  "kernelspec": {
   "display_name": "Python 3 (ipykernel)",
   "language": "python",
   "name": "python3"
  },
  "language_info": {
   "codemirror_mode": {
    "name": "ipython",
    "version": 3
   },
   "file_extension": ".py",
   "mimetype": "text/x-python",
   "name": "python",
   "nbconvert_exporter": "python",
   "pygments_lexer": "ipython3",
   "version": "3.7.6"
  }
 },
 "nbformat": 4,
 "nbformat_minor": 5
}
